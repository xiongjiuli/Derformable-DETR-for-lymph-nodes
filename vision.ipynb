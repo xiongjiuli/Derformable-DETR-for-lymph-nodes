{
 "cells": [
  {
   "cell_type": "code",
   "execution_count": 26,
   "metadata": {},
   "outputs": [],
   "source": [
    "from PIL import Image\n",
    "\n",
    "def convert_image(input_image_path, output_image_path):\n",
    "    # 打开输入图像\n",
    "    image = Image.open(input_image_path).convert(\"RGBA\")\n",
    "    \n",
    "    # 获取图像的像素数据\n",
    "    data = image.getdata()\n",
    "    \n",
    "    new_data = []\n",
    "    for item in data:\n",
    "        # 更改黑色为透明\n",
    "        if item[0] == 0 and item[1] == 0 and item[2] == 0:\n",
    "            new_data.append((0, 0, 0, 0))\n",
    "        else:\n",
    "            # 白色变红色，保留原来的alpha值\n",
    "            red_value = item[0]\n",
    "            new_data.append((255, 0, 0, red_value))\n",
    "    \n",
    "    # 更新图像的数据\n",
    "    image.putdata(new_data)\n",
    "    \n",
    "    # 保存新的图像\n",
    "    image.save(output_image_path, \"PNG\")\n",
    "\n",
    "# 使用示例\n",
    "input_image_path = \"/Users/james/Desktop/截屏2024-08-15 16.03.45.png\"\n",
    "output_image_path = \"/Users/james/Desktop/截屏2024-08-15 16.03.45-done.png\"\n",
    "convert_image(input_image_path, output_image_path)"
   ]
  },
  {
   "cell_type": "code",
   "execution_count": null,
   "metadata": {},
   "outputs": [],
   "source": [
    "\n"
   ]
  }
 ],
 "metadata": {
  "kernelspec": {
   "display_name": "Python 3",
   "language": "python",
   "name": "python3"
  },
  "language_info": {
   "codemirror_mode": {
    "name": "ipython",
    "version": 3
   },
   "file_extension": ".py",
   "mimetype": "text/x-python",
   "name": "python",
   "nbconvert_exporter": "python",
   "pygments_lexer": "ipython3",
   "version": "3.9.6"
  }
 },
 "nbformat": 4,
 "nbformat_minor": 2
}
